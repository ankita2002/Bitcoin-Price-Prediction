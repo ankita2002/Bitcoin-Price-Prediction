{
 "cells": [
  {
   "cell_type": "code",
   "execution_count": 1,
   "id": "7508f7cd",
   "metadata": {
    "_cell_guid": "b1076dfc-b9ad-4769-8c92-a6c4dae69d19",
    "_uuid": "8f2839f25d086af736a60e9eeb907d3b93b6e0e5",
    "execution": {
     "iopub.execute_input": "2021-12-08T14:27:00.655617Z",
     "iopub.status.busy": "2021-12-08T14:27:00.654332Z",
     "iopub.status.idle": "2021-12-08T14:27:00.657881Z",
     "shell.execute_reply": "2021-12-08T14:27:00.658379Z",
     "shell.execute_reply.started": "2021-12-08T14:21:52.781217Z"
    },
    "papermill": {
     "duration": 0.039561,
     "end_time": "2021-12-08T14:27:00.658668",
     "exception": false,
     "start_time": "2021-12-08T14:27:00.619107",
     "status": "completed"
    },
    "tags": []
   },
   "outputs": [],
   "source": [
    "# This Python 3 environment comes with many helpful analytics libraries installed\n",
    "# It is defined by the kaggle/python Docker image: https://github.com/kaggle/docker-python\n",
    "# For example, here's several helpful packages to load\n",
    "\n",
    "#import numpy as np # linear algebra\n",
    "#import pandas as pd # data processing, CSV file I/O (e.g. pd.read_csv)\n",
    "\n",
    "# Input data files are available in the read-only \"../input/\" directory\n",
    "# For example, running this (by clicking run or pressing Shift+Enter) will list all files under the input directory\n",
    "\n",
    "#import os\n",
    "#for dirname, _, filenames in os.walk('/kaggle/input'):\n",
    "#    for filename in filenames:\n",
    "#        print(os.path.join(dirname, filename))\n",
    "\n",
    "# You can write up to 20GB to the current directory (/kaggle/working/) that gets preserved as output when you create a version using \"Save & Run All\" \n",
    "# You can also write temporary files to /kaggle/temp/, but they won't be saved outside of the current session"
   ]
  },
  {
   "cell_type": "markdown",
   "id": "8032ef9d",
   "metadata": {
    "papermill": {
     "duration": 0.029373,
     "end_time": "2021-12-08T14:27:00.718389",
     "exception": false,
     "start_time": "2021-12-08T14:27:00.689016",
     "status": "completed"
    },
    "tags": []
   },
   "source": [
    "# Bitcoin Prediction System"
   ]
  },
  {
   "cell_type": "markdown",
   "id": "26e6603f",
   "metadata": {
    "papermill": {
     "duration": 0.029762,
     "end_time": "2021-12-08T14:27:00.777757",
     "exception": false,
     "start_time": "2021-12-08T14:27:00.747995",
     "status": "completed"
    },
    "tags": []
   },
   "source": [
    "<b> Long Short Term Memory (LSTM) neural network was used to predict the price of Bitcoin that yields the prediction results you saw above. </b><br>\n",
    "<b>LSTMs are a special kind of Recurrent Neural Networks (RNN), that are particularly suitable for time series problems.</b>"
   ]
  },
  {
   "cell_type": "markdown",
   "id": "eb86a4a3",
   "metadata": {
    "papermill": {
     "duration": 0.029678,
     "end_time": "2021-12-08T14:27:00.836939",
     "exception": false,
     "start_time": "2021-12-08T14:27:00.807261",
     "status": "completed"
    },
    "tags": []
   },
   "source": [
    "***First, we fetched historic Bitcoin price data. <br>\n",
    "To do so I used the API from cryptocompare:***"
   ]
  },
  {
   "cell_type": "code",
   "execution_count": 2,
   "id": "79f587eb",
   "metadata": {
    "execution": {
     "iopub.execute_input": "2021-12-08T14:27:00.901595Z",
     "iopub.status.busy": "2021-12-08T14:27:00.900934Z",
     "iopub.status.idle": "2021-12-08T14:27:07.566576Z",
     "shell.execute_reply": "2021-12-08T14:27:07.565976Z",
     "shell.execute_reply.started": "2021-12-08T14:21:52.837464Z"
    },
    "papermill": {
     "duration": 6.699388,
     "end_time": "2021-12-08T14:27:07.566744",
     "exception": false,
     "start_time": "2021-12-08T14:27:00.867356",
     "status": "completed"
    },
    "tags": []
   },
   "outputs": [],
   "source": [
    "import json\n",
    "import requests\n",
    "\n",
    "from keras.models import Sequential\n",
    "from keras.layers import Activation, Dense, Dropout, LSTM\n",
    "import matplotlib.pyplot as plt\n",
    "import numpy as np\n",
    "import pandas as pd\n",
    "import seaborn as sns\n",
    "from sklearn.metrics import mean_absolute_error\n",
    "\n",
    "sns.set_palette('Set2')\n",
    "%matplotlib inline"
   ]
  },
  {
   "cell_type": "code",
   "execution_count": 3,
   "id": "641d7439",
   "metadata": {
    "execution": {
     "iopub.execute_input": "2021-12-08T14:27:07.633943Z",
     "iopub.status.busy": "2021-12-08T14:27:07.633226Z",
     "iopub.status.idle": "2021-12-08T14:27:08.066821Z",
     "shell.execute_reply": "2021-12-08T14:27:08.066194Z",
     "shell.execute_reply.started": "2021-12-08T14:21:59.811693Z"
    },
    "papermill": {
     "duration": 0.470342,
     "end_time": "2021-12-08T14:27:08.066969",
     "exception": false,
     "start_time": "2021-12-08T14:27:07.596627",
     "status": "completed"
    },
    "tags": []
   },
   "outputs": [
    {
     "data": {
      "text/html": [
       "<div>\n",
       "<style scoped>\n",
       "    .dataframe tbody tr th:only-of-type {\n",
       "        vertical-align: middle;\n",
       "    }\n",
       "\n",
       "    .dataframe tbody tr th {\n",
       "        vertical-align: top;\n",
       "    }\n",
       "\n",
       "    .dataframe thead th {\n",
       "        text-align: right;\n",
       "    }\n",
       "</style>\n",
       "<table border=\"1\" class=\"dataframe\">\n",
       "  <thead>\n",
       "    <tr style=\"text-align: right;\">\n",
       "      <th></th>\n",
       "      <th>high</th>\n",
       "      <th>low</th>\n",
       "      <th>open</th>\n",
       "      <th>volumefrom</th>\n",
       "      <th>volumeto</th>\n",
       "      <th>close</th>\n",
       "    </tr>\n",
       "    <tr>\n",
       "      <th>time</th>\n",
       "      <th></th>\n",
       "      <th></th>\n",
       "      <th></th>\n",
       "      <th></th>\n",
       "      <th></th>\n",
       "      <th></th>\n",
       "    </tr>\n",
       "  </thead>\n",
       "  <tbody>\n",
       "    <tr>\n",
       "      <th>2016-06-17</th>\n",
       "      <td>771.89</td>\n",
       "      <td>704.21</td>\n",
       "      <td>761.21</td>\n",
       "      <td>215870.36</td>\n",
       "      <td>1.603024e+08</td>\n",
       "      <td>743.90</td>\n",
       "    </tr>\n",
       "    <tr>\n",
       "      <th>2016-06-18</th>\n",
       "      <td>776.04</td>\n",
       "      <td>727.13</td>\n",
       "      <td>743.90</td>\n",
       "      <td>120525.37</td>\n",
       "      <td>9.105699e+07</td>\n",
       "      <td>753.77</td>\n",
       "    </tr>\n",
       "    <tr>\n",
       "      <th>2016-06-19</th>\n",
       "      <td>765.10</td>\n",
       "      <td>740.38</td>\n",
       "      <td>753.77</td>\n",
       "      <td>60445.37</td>\n",
       "      <td>4.580598e+07</td>\n",
       "      <td>761.04</td>\n",
       "    </tr>\n",
       "    <tr>\n",
       "      <th>2016-06-20</th>\n",
       "      <td>764.60</td>\n",
       "      <td>717.41</td>\n",
       "      <td>761.04</td>\n",
       "      <td>112290.09</td>\n",
       "      <td>8.363762e+07</td>\n",
       "      <td>733.97</td>\n",
       "    </tr>\n",
       "    <tr>\n",
       "      <th>2016-06-21</th>\n",
       "      <td>732.23</td>\n",
       "      <td>626.05</td>\n",
       "      <td>733.97</td>\n",
       "      <td>248083.39</td>\n",
       "      <td>1.668284e+08</td>\n",
       "      <td>667.38</td>\n",
       "    </tr>\n",
       "    <tr>\n",
       "      <th>2016-06-22</th>\n",
       "      <td>677.80</td>\n",
       "      <td>586.60</td>\n",
       "      <td>667.38</td>\n",
       "      <td>202320.10</td>\n",
       "      <td>1.295508e+08</td>\n",
       "      <td>590.56</td>\n",
       "    </tr>\n",
       "    <tr>\n",
       "      <th>2016-06-23</th>\n",
       "      <td>629.55</td>\n",
       "      <td>539.28</td>\n",
       "      <td>590.56</td>\n",
       "      <td>261739.44</td>\n",
       "      <td>1.542891e+08</td>\n",
       "      <td>620.84</td>\n",
       "    </tr>\n",
       "    <tr>\n",
       "      <th>2016-06-24</th>\n",
       "      <td>687.39</td>\n",
       "      <td>616.41</td>\n",
       "      <td>620.84</td>\n",
       "      <td>196694.45</td>\n",
       "      <td>1.289908e+08</td>\n",
       "      <td>656.89</td>\n",
       "    </tr>\n",
       "    <tr>\n",
       "      <th>2016-06-25</th>\n",
       "      <td>688.10</td>\n",
       "      <td>640.79</td>\n",
       "      <td>656.89</td>\n",
       "      <td>100457.69</td>\n",
       "      <td>6.744214e+07</td>\n",
       "      <td>663.52</td>\n",
       "    </tr>\n",
       "    <tr>\n",
       "      <th>2016-06-26</th>\n",
       "      <td>665.19</td>\n",
       "      <td>609.90</td>\n",
       "      <td>663.52</td>\n",
       "      <td>88928.71</td>\n",
       "      <td>5.640309e+07</td>\n",
       "      <td>625.41</td>\n",
       "    </tr>\n",
       "    <tr>\n",
       "      <th>2016-06-27</th>\n",
       "      <td>650.34</td>\n",
       "      <td>615.22</td>\n",
       "      <td>625.41</td>\n",
       "      <td>99812.97</td>\n",
       "      <td>6.374714e+07</td>\n",
       "      <td>644.66</td>\n",
       "    </tr>\n",
       "    <tr>\n",
       "      <th>2016-06-28</th>\n",
       "      <td>659.27</td>\n",
       "      <td>634.26</td>\n",
       "      <td>644.66</td>\n",
       "      <td>76657.93</td>\n",
       "      <td>4.967383e+07</td>\n",
       "      <td>644.89</td>\n",
       "    </tr>\n",
       "    <tr>\n",
       "      <th>2016-06-29</th>\n",
       "      <td>645.91</td>\n",
       "      <td>621.76</td>\n",
       "      <td>644.89</td>\n",
       "      <td>80218.82</td>\n",
       "      <td>5.089809e+07</td>\n",
       "      <td>636.54</td>\n",
       "    </tr>\n",
       "    <tr>\n",
       "      <th>2016-06-30</th>\n",
       "      <td>673.04</td>\n",
       "      <td>631.24</td>\n",
       "      <td>636.54</td>\n",
       "      <td>88203.81</td>\n",
       "      <td>5.821506e+07</td>\n",
       "      <td>670.02</td>\n",
       "    </tr>\n",
       "    <tr>\n",
       "      <th>2016-07-01</th>\n",
       "      <td>685.11</td>\n",
       "      <td>661.09</td>\n",
       "      <td>670.02</td>\n",
       "      <td>92227.36</td>\n",
       "      <td>6.239448e+07</td>\n",
       "      <td>674.57</td>\n",
       "    </tr>\n",
       "  </tbody>\n",
       "</table>\n",
       "</div>"
      ],
      "text/plain": [
       "              high     low    open  volumefrom      volumeto   close\n",
       "time                                                                \n",
       "2016-06-17  771.89  704.21  761.21   215870.36  1.603024e+08  743.90\n",
       "2016-06-18  776.04  727.13  743.90   120525.37  9.105699e+07  753.77\n",
       "2016-06-19  765.10  740.38  753.77    60445.37  4.580598e+07  761.04\n",
       "2016-06-20  764.60  717.41  761.04   112290.09  8.363762e+07  733.97\n",
       "2016-06-21  732.23  626.05  733.97   248083.39  1.668284e+08  667.38\n",
       "2016-06-22  677.80  586.60  667.38   202320.10  1.295508e+08  590.56\n",
       "2016-06-23  629.55  539.28  590.56   261739.44  1.542891e+08  620.84\n",
       "2016-06-24  687.39  616.41  620.84   196694.45  1.289908e+08  656.89\n",
       "2016-06-25  688.10  640.79  656.89   100457.69  6.744214e+07  663.52\n",
       "2016-06-26  665.19  609.90  663.52    88928.71  5.640309e+07  625.41\n",
       "2016-06-27  650.34  615.22  625.41    99812.97  6.374714e+07  644.66\n",
       "2016-06-28  659.27  634.26  644.66    76657.93  4.967383e+07  644.89\n",
       "2016-06-29  645.91  621.76  644.89    80218.82  5.089809e+07  636.54\n",
       "2016-06-30  673.04  631.24  636.54    88203.81  5.821506e+07  670.02\n",
       "2016-07-01  685.11  661.09  670.02    92227.36  6.239448e+07  674.57"
      ]
     },
     "execution_count": 3,
     "metadata": {},
     "output_type": "execute_result"
    }
   ],
   "source": [
    "endpoint = 'https://min-api.cryptocompare.com/data/histoday'\n",
    "res = requests.get(endpoint + '?fsym=BTC&tsym=USD&limit=2000')\n",
    "data = json.loads(res.content)['Data']\n",
    "for element in data:\n",
    "    element.pop('conversionType', None)\n",
    "    element.pop('conversionSymbol', None)\n",
    "\n",
    "hist = pd.DataFrame(data)\n",
    "hist = hist.set_index('time')\n",
    "hist.index = pd.to_datetime(hist.index, unit='s')\n",
    "hist.head(15)"
   ]
  },
  {
   "cell_type": "code",
   "execution_count": 4,
   "id": "d26fc52e",
   "metadata": {
    "execution": {
     "iopub.execute_input": "2021-12-08T14:27:08.140160Z",
     "iopub.status.busy": "2021-12-08T14:27:08.139459Z",
     "iopub.status.idle": "2021-12-08T14:27:08.153614Z",
     "shell.execute_reply": "2021-12-08T14:27:08.154174Z",
     "shell.execute_reply.started": "2021-12-08T14:22:01.337227Z"
    },
    "papermill": {
     "duration": 0.056461,
     "end_time": "2021-12-08T14:27:08.154360",
     "exception": false,
     "start_time": "2021-12-08T14:27:08.097899",
     "status": "completed"
    },
    "tags": []
   },
   "outputs": [
    {
     "data": {
      "text/html": [
       "<div>\n",
       "<style scoped>\n",
       "    .dataframe tbody tr th:only-of-type {\n",
       "        vertical-align: middle;\n",
       "    }\n",
       "\n",
       "    .dataframe tbody tr th {\n",
       "        vertical-align: top;\n",
       "    }\n",
       "\n",
       "    .dataframe thead th {\n",
       "        text-align: right;\n",
       "    }\n",
       "</style>\n",
       "<table border=\"1\" class=\"dataframe\">\n",
       "  <thead>\n",
       "    <tr style=\"text-align: right;\">\n",
       "      <th></th>\n",
       "      <th>high</th>\n",
       "      <th>low</th>\n",
       "      <th>open</th>\n",
       "      <th>volumefrom</th>\n",
       "      <th>volumeto</th>\n",
       "      <th>close</th>\n",
       "    </tr>\n",
       "    <tr>\n",
       "      <th>time</th>\n",
       "      <th></th>\n",
       "      <th></th>\n",
       "      <th></th>\n",
       "      <th></th>\n",
       "      <th></th>\n",
       "      <th></th>\n",
       "    </tr>\n",
       "  </thead>\n",
       "  <tbody>\n",
       "    <tr>\n",
       "      <th>2021-11-24</th>\n",
       "      <td>57740.34</td>\n",
       "      <td>55899.88</td>\n",
       "      <td>57566.60</td>\n",
       "      <td>28738.13</td>\n",
       "      <td>1.630017e+09</td>\n",
       "      <td>57175.09</td>\n",
       "    </tr>\n",
       "    <tr>\n",
       "      <th>2021-11-25</th>\n",
       "      <td>59437.04</td>\n",
       "      <td>57056.64</td>\n",
       "      <td>57175.09</td>\n",
       "      <td>24221.47</td>\n",
       "      <td>1.412787e+09</td>\n",
       "      <td>58966.99</td>\n",
       "    </tr>\n",
       "    <tr>\n",
       "      <th>2021-11-26</th>\n",
       "      <td>59201.95</td>\n",
       "      <td>53575.54</td>\n",
       "      <td>58966.99</td>\n",
       "      <td>60064.72</td>\n",
       "      <td>3.312563e+09</td>\n",
       "      <td>53788.22</td>\n",
       "    </tr>\n",
       "    <tr>\n",
       "      <th>2021-11-27</th>\n",
       "      <td>55316.65</td>\n",
       "      <td>53668.95</td>\n",
       "      <td>53788.22</td>\n",
       "      <td>18504.73</td>\n",
       "      <td>1.010586e+09</td>\n",
       "      <td>54805.03</td>\n",
       "    </tr>\n",
       "    <tr>\n",
       "      <th>2021-11-28</th>\n",
       "      <td>57475.26</td>\n",
       "      <td>53436.05</td>\n",
       "      <td>54805.03</td>\n",
       "      <td>21562.34</td>\n",
       "      <td>1.186995e+09</td>\n",
       "      <td>57331.41</td>\n",
       "    </tr>\n",
       "    <tr>\n",
       "      <th>2021-11-29</th>\n",
       "      <td>58898.57</td>\n",
       "      <td>56752.37</td>\n",
       "      <td>57331.41</td>\n",
       "      <td>29291.80</td>\n",
       "      <td>1.690006e+09</td>\n",
       "      <td>57839.55</td>\n",
       "    </tr>\n",
       "    <tr>\n",
       "      <th>2021-11-30</th>\n",
       "      <td>59226.33</td>\n",
       "      <td>55931.33</td>\n",
       "      <td>57839.55</td>\n",
       "      <td>41466.86</td>\n",
       "      <td>2.383744e+09</td>\n",
       "      <td>56975.35</td>\n",
       "    </tr>\n",
       "    <tr>\n",
       "      <th>2021-12-01</th>\n",
       "      <td>59096.53</td>\n",
       "      <td>56505.99</td>\n",
       "      <td>56975.35</td>\n",
       "      <td>36078.24</td>\n",
       "      <td>2.072824e+09</td>\n",
       "      <td>57227.97</td>\n",
       "    </tr>\n",
       "    <tr>\n",
       "      <th>2021-12-02</th>\n",
       "      <td>57409.48</td>\n",
       "      <td>55850.40</td>\n",
       "      <td>57227.97</td>\n",
       "      <td>30214.70</td>\n",
       "      <td>1.712171e+09</td>\n",
       "      <td>56522.76</td>\n",
       "    </tr>\n",
       "    <tr>\n",
       "      <th>2021-12-03</th>\n",
       "      <td>57639.15</td>\n",
       "      <td>52493.23</td>\n",
       "      <td>56522.76</td>\n",
       "      <td>44903.19</td>\n",
       "      <td>2.461498e+09</td>\n",
       "      <td>53663.25</td>\n",
       "    </tr>\n",
       "    <tr>\n",
       "      <th>2021-12-04</th>\n",
       "      <td>53871.20</td>\n",
       "      <td>43563.07</td>\n",
       "      <td>53663.25</td>\n",
       "      <td>89255.49</td>\n",
       "      <td>4.315349e+09</td>\n",
       "      <td>49243.39</td>\n",
       "    </tr>\n",
       "    <tr>\n",
       "      <th>2021-12-05</th>\n",
       "      <td>49764.31</td>\n",
       "      <td>47840.63</td>\n",
       "      <td>49243.39</td>\n",
       "      <td>42264.26</td>\n",
       "      <td>2.074283e+09</td>\n",
       "      <td>49465.50</td>\n",
       "    </tr>\n",
       "    <tr>\n",
       "      <th>2021-12-06</th>\n",
       "      <td>50986.02</td>\n",
       "      <td>47260.20</td>\n",
       "      <td>49465.50</td>\n",
       "      <td>49875.62</td>\n",
       "      <td>2.437856e+09</td>\n",
       "      <td>50552.83</td>\n",
       "    </tr>\n",
       "    <tr>\n",
       "      <th>2021-12-07</th>\n",
       "      <td>51953.27</td>\n",
       "      <td>50083.33</td>\n",
       "      <td>50552.83</td>\n",
       "      <td>29306.55</td>\n",
       "      <td>1.496165e+09</td>\n",
       "      <td>50633.01</td>\n",
       "    </tr>\n",
       "    <tr>\n",
       "      <th>2021-12-08</th>\n",
       "      <td>50833.57</td>\n",
       "      <td>48711.85</td>\n",
       "      <td>50633.01</td>\n",
       "      <td>14924.24</td>\n",
       "      <td>7.436870e+08</td>\n",
       "      <td>49867.79</td>\n",
       "    </tr>\n",
       "  </tbody>\n",
       "</table>\n",
       "</div>"
      ],
      "text/plain": [
       "                high       low      open  volumefrom      volumeto     close\n",
       "time                                                                        \n",
       "2021-11-24  57740.34  55899.88  57566.60    28738.13  1.630017e+09  57175.09\n",
       "2021-11-25  59437.04  57056.64  57175.09    24221.47  1.412787e+09  58966.99\n",
       "2021-11-26  59201.95  53575.54  58966.99    60064.72  3.312563e+09  53788.22\n",
       "2021-11-27  55316.65  53668.95  53788.22    18504.73  1.010586e+09  54805.03\n",
       "2021-11-28  57475.26  53436.05  54805.03    21562.34  1.186995e+09  57331.41\n",
       "2021-11-29  58898.57  56752.37  57331.41    29291.80  1.690006e+09  57839.55\n",
       "2021-11-30  59226.33  55931.33  57839.55    41466.86  2.383744e+09  56975.35\n",
       "2021-12-01  59096.53  56505.99  56975.35    36078.24  2.072824e+09  57227.97\n",
       "2021-12-02  57409.48  55850.40  57227.97    30214.70  1.712171e+09  56522.76\n",
       "2021-12-03  57639.15  52493.23  56522.76    44903.19  2.461498e+09  53663.25\n",
       "2021-12-04  53871.20  43563.07  53663.25    89255.49  4.315349e+09  49243.39\n",
       "2021-12-05  49764.31  47840.63  49243.39    42264.26  2.074283e+09  49465.50\n",
       "2021-12-06  50986.02  47260.20  49465.50    49875.62  2.437856e+09  50552.83\n",
       "2021-12-07  51953.27  50083.33  50552.83    29306.55  1.496165e+09  50633.01\n",
       "2021-12-08  50833.57  48711.85  50633.01    14924.24  7.436870e+08  49867.79"
      ]
     },
     "execution_count": 4,
     "metadata": {},
     "output_type": "execute_result"
    }
   ],
   "source": [
    "hist.tail(15)"
   ]
  },
  {
   "cell_type": "code",
   "execution_count": 5,
   "id": "225900c7",
   "metadata": {
    "execution": {
     "iopub.execute_input": "2021-12-08T14:27:08.223845Z",
     "iopub.status.busy": "2021-12-08T14:27:08.223136Z",
     "iopub.status.idle": "2021-12-08T14:27:08.226101Z",
     "shell.execute_reply": "2021-12-08T14:27:08.225547Z",
     "shell.execute_reply.started": "2021-12-08T14:22:01.365179Z"
    },
    "papermill": {
     "duration": 0.038463,
     "end_time": "2021-12-08T14:27:08.226243",
     "exception": false,
     "start_time": "2021-12-08T14:27:08.187780",
     "status": "completed"
    },
    "tags": []
   },
   "outputs": [],
   "source": [
    "target_col = 'close'"
   ]
  },
  {
   "cell_type": "markdown",
   "id": "2583e83c",
   "metadata": {
    "papermill": {
     "duration": 0.030668,
     "end_time": "2021-12-08T14:27:08.288357",
     "exception": false,
     "start_time": "2021-12-08T14:27:08.257689",
     "status": "completed"
    },
    "tags": []
   },
   "source": [
    "### split Data into Testing & Training"
   ]
  },
  {
   "cell_type": "markdown",
   "id": "bbbaea86",
   "metadata": {
    "papermill": {
     "duration": 0.03061,
     "end_time": "2021-12-08T14:27:08.349902",
     "exception": false,
     "start_time": "2021-12-08T14:27:08.319292",
     "status": "completed"
    },
    "tags": []
   },
   "source": [
    "Then, we split the data into a training and a test set.<br> \n",
    "We used the last 10% of the data for testing, which splits the data on the 2017–09–14. All data before this date was used for training, all data from this date on was used to test the trained model. <br>\n",
    "Below, I plotted the close column of our DataFrame, which is the daily closing price I intended to predict."
   ]
  },
  {
   "cell_type": "code",
   "execution_count": 6,
   "id": "0cc90b28",
   "metadata": {
    "execution": {
     "iopub.execute_input": "2021-12-08T14:27:08.418046Z",
     "iopub.status.busy": "2021-12-08T14:27:08.417342Z",
     "iopub.status.idle": "2021-12-08T14:27:08.420280Z",
     "shell.execute_reply": "2021-12-08T14:27:08.419769Z",
     "shell.execute_reply.started": "2021-12-08T14:22:01.373432Z"
    },
    "papermill": {
     "duration": 0.039602,
     "end_time": "2021-12-08T14:27:08.420454",
     "exception": false,
     "start_time": "2021-12-08T14:27:08.380852",
     "status": "completed"
    },
    "tags": []
   },
   "outputs": [],
   "source": [
    "def train_test_split(df, test_size=0.1):\n",
    "    split_row = len(df) - int(test_size * len(df))\n",
    "    train_data = df.iloc[:split_row]\n",
    "    test_data = df.iloc[split_row:]\n",
    "    return train_data, test_data"
   ]
  },
  {
   "cell_type": "code",
   "execution_count": 7,
   "id": "9a5f3284",
   "metadata": {
    "execution": {
     "iopub.execute_input": "2021-12-08T14:27:08.488179Z",
     "iopub.status.busy": "2021-12-08T14:27:08.487532Z",
     "iopub.status.idle": "2021-12-08T14:27:08.489885Z",
     "shell.execute_reply": "2021-12-08T14:27:08.490327Z",
     "shell.execute_reply.started": "2021-12-08T14:22:01.382887Z"
    },
    "papermill": {
     "duration": 0.038505,
     "end_time": "2021-12-08T14:27:08.490554",
     "exception": false,
     "start_time": "2021-12-08T14:27:08.452049",
     "status": "completed"
    },
    "tags": []
   },
   "outputs": [],
   "source": [
    "train, test = train_test_split(hist, test_size=0.1)"
   ]
  },
  {
   "cell_type": "markdown",
   "id": "77e0ff17",
   "metadata": {
    "papermill": {
     "duration": 0.031048,
     "end_time": "2021-12-08T14:27:08.553075",
     "exception": false,
     "start_time": "2021-12-08T14:27:08.522027",
     "status": "completed"
    },
    "tags": []
   },
   "source": [
    "# Plot Data"
   ]
  },
  {
   "cell_type": "code",
   "execution_count": 8,
   "id": "40bce94d",
   "metadata": {
    "execution": {
     "iopub.execute_input": "2021-12-08T14:27:08.622206Z",
     "iopub.status.busy": "2021-12-08T14:27:08.621551Z",
     "iopub.status.idle": "2021-12-08T14:27:08.624775Z",
     "shell.execute_reply": "2021-12-08T14:27:08.624177Z",
     "shell.execute_reply.started": "2021-12-08T14:22:01.397491Z"
    },
    "papermill": {
     "duration": 0.04086,
     "end_time": "2021-12-08T14:27:08.624920",
     "exception": false,
     "start_time": "2021-12-08T14:27:08.584060",
     "status": "completed"
    },
    "tags": []
   },
   "outputs": [],
   "source": [
    "def line_plot(line1, line2, label1=None, label2=None, title='', lw=2):\n",
    "    fig, ax = plt.subplots(1, figsize=(16, 9))\n",
    "    ax.plot(line1, label=label1, linewidth=lw)\n",
    "    ax.plot(line2, label=label2, linewidth=lw)\n",
    "    ax.set_ylabel('price [USD]', fontsize=14)\n",
    "    ax.set_title(title, fontsize=18)\n",
    "    ax.legend(loc='best', fontsize=18);"
   ]
  },
  {
   "cell_type": "code",
   "execution_count": 9,
   "id": "1ae439dd",
   "metadata": {
    "execution": {
     "iopub.execute_input": "2021-12-08T14:27:08.708483Z",
     "iopub.status.busy": "2021-12-08T14:27:08.690127Z",
     "iopub.status.idle": "2021-12-08T14:27:09.045842Z",
     "shell.execute_reply": "2021-12-08T14:27:09.044778Z",
     "shell.execute_reply.started": "2021-12-08T14:22:01.410305Z"
    },
    "papermill": {
     "duration": 0.389815,
     "end_time": "2021-12-08T14:27:09.046004",
     "exception": false,
     "start_time": "2021-12-08T14:27:08.656189",
     "status": "completed"
    },
    "tags": []
   },
   "outputs": [
    {
     "data": {
      "image/png": "[encoded data removed]",
      "text/plain": [
       "<Figure size 1152x648 with 1 Axes>"
      ]
     },
     "metadata": {
      "needs_background": "light"
     },
     "output_type": "display_data"
    }
   ],
   "source": [
    "line_plot(train[target_col], test[target_col], 'training', 'test', title='BTC')"
   ]
  },
  {
   "cell_type": "markdown",
   "id": "04f76682",
   "metadata": {
    "papermill": {
     "duration": 0.033272,
     "end_time": "2021-12-08T14:27:09.116356",
     "exception": false,
     "start_time": "2021-12-08T14:27:09.083084",
     "status": "completed"
    },
    "tags": []
   },
   "source": [
    "# LSTM - Long short term memory"
   ]
  },
  {
   "cell_type": "markdown",
   "id": "cb598885",
   "metadata": {
    "papermill": {
     "duration": 0.032729,
     "end_time": "2021-12-08T14:27:09.182367",
     "exception": false,
     "start_time": "2021-12-08T14:27:09.149638",
     "status": "completed"
    },
    "tags": []
   },
   "source": [
    "For training the LSTM, the data was split into windows of 7 days and within each window we normalised the data to zero base, <br>\n",
    "i.e. the first entry of each window is 0 and all other values represent the change with respect to the first value. <br>\n",
    "Hence, I am predicting price changes, rather than absolute price."
   ]
  },
  {
   "cell_type": "code",
   "execution_count": 10,
   "id": "a0cb8ed2",
   "metadata": {
    "execution": {
     "iopub.execute_input": "2021-12-08T14:27:09.252179Z",
     "iopub.status.busy": "2021-12-08T14:27:09.251142Z",
     "iopub.status.idle": "2021-12-08T14:27:09.256854Z",
     "shell.execute_reply": "2021-12-08T14:27:09.257484Z",
     "shell.execute_reply.started": "2021-12-08T14:22:01.785868Z"
    },
    "papermill": {
     "duration": 0.042234,
     "end_time": "2021-12-08T14:27:09.257676",
     "exception": false,
     "start_time": "2021-12-08T14:27:09.215442",
     "status": "completed"
    },
    "tags": []
   },
   "outputs": [],
   "source": [
    "def normalise_zero_base(df):\n",
    "    \"\"\" Normalise dataframe column-wise to reflect changes with respect to first entry. \"\"\"\n",
    "    return df / df.iloc[0] - 1\n",
    "\n",
    "def normalise_min_max(df):\n",
    "    \"\"\" Normalise dataframe column-wise min/max. \"\"\"\n",
    "    return (df - df.min()) / (data.max() - df.min())"
   ]
  },
  {
   "cell_type": "code",
   "execution_count": 11,
   "id": "98e9fa99",
   "metadata": {
    "execution": {
     "iopub.execute_input": "2021-12-08T14:27:09.330511Z",
     "iopub.status.busy": "2021-12-08T14:27:09.329486Z",
     "iopub.status.idle": "2021-12-08T14:27:09.335541Z",
     "shell.execute_reply": "2021-12-08T14:27:09.336065Z",
     "shell.execute_reply.started": "2021-12-08T14:22:01.794142Z"
    },
    "papermill": {
     "duration": 0.044305,
     "end_time": "2021-12-08T14:27:09.336238",
     "exception": false,
     "start_time": "2021-12-08T14:27:09.291933",
     "status": "completed"
    },
    "tags": []
   },
   "outputs": [],
   "source": [
    "def extract_window_data(df, window_len=10, zero_base=True):\n",
    "    \"\"\" Convert dataframe to overlapping sequences/windows of len `window_data`.\n",
    "    \n",
    "        :param window_len: Size of window\n",
    "        :param zero_base: If True, the data in each window is normalised to reflect changes\n",
    "            with respect to the first entry in the window (which is then always 0)\n",
    "    \"\"\"\n",
    "    window_data = []\n",
    "    for idx in range(len(df) - window_len):\n",
    "        tmp = df[idx: (idx + window_len)].copy()\n",
    "        if zero_base:\n",
    "            tmp = normalise_zero_base(tmp)\n",
    "        window_data.append(tmp.values)\n",
    "    return np.array(window_data)"
   ]
  },
  {
   "cell_type": "code",
   "execution_count": 12,
   "id": "5dfa315b",
   "metadata": {
    "execution": {
     "iopub.execute_input": "2021-12-08T14:27:09.414061Z",
     "iopub.status.busy": "2021-12-08T14:27:09.413176Z",
     "iopub.status.idle": "2021-12-08T14:27:09.416027Z",
     "shell.execute_reply": "2021-12-08T14:27:09.415533Z",
     "shell.execute_reply.started": "2021-12-08T14:22:01.807403Z"
    },
    "papermill": {
     "duration": 0.045875,
     "end_time": "2021-12-08T14:27:09.416167",
     "exception": false,
     "start_time": "2021-12-08T14:27:09.370292",
     "status": "completed"
    },
    "tags": []
   },
   "outputs": [],
   "source": [
    "\n",
    "def prepare_data(df, target_col, window_len=10, zero_base=True, test_size=0.2):\n",
    "    \"\"\" Prepare data for LSTM. \"\"\"\n",
    "    # train test split\n",
    "    train_data, test_data = train_test_split(df, test_size=test_size)\n",
    "    \n",
    "    # extract window data\n",
    "    X_train = extract_window_data(train_data, window_len, zero_base)\n",
    "    X_test = extract_window_data(test_data, window_len, zero_base)\n",
    "    \n",
    "    # extract targets\n",
    "    y_train = train_data[target_col][window_len:].values\n",
    "    y_test = test_data[target_col][window_len:].values\n",
    "    if zero_base:\n",
    "        y_train = y_train / train_data[target_col][:-window_len].values - 1\n",
    "        y_test = y_test / test_data[target_col][:-window_len].values - 1\n",
    "\n",
    "    return train_data, test_data, X_train, X_test, y_train, y_test"
   ]
  },
  {
   "cell_type": "code",
   "execution_count": 13,
   "id": "356d8b82",
   "metadata": {
    "execution": {
     "iopub.execute_input": "2021-12-08T14:27:09.492833Z",
     "iopub.status.busy": "2021-12-08T14:27:09.491922Z",
     "iopub.status.idle": "2021-12-08T14:27:09.494657Z",
     "shell.execute_reply": "2021-12-08T14:27:09.494121Z",
     "shell.execute_reply.started": "2021-12-08T14:22:01.819871Z"
    },
    "papermill": {
     "duration": 0.04426,
     "end_time": "2021-12-08T14:27:09.494805",
     "exception": false,
     "start_time": "2021-12-08T14:27:09.450545",
     "status": "completed"
    },
    "tags": []
   },
   "outputs": [],
   "source": [
    "def build_lstm_model(input_data, output_size, neurons=20, activ_func='linear',\n",
    "                     dropout=0.25, loss='mae', optimizer='adam'):\n",
    "    model = Sequential()\n",
    "\n",
    "    model.add(LSTM(neurons, input_shape=(input_data.shape[1], input_data.shape[2])))\n",
    "    model.add(Dropout(dropout))\n",
    "    model.add(Dense(units=output_size))\n",
    "    model.add(Activation(activ_func))\n",
    "\n",
    "    model.compile(loss=loss, optimizer=optimizer)\n",
    "    return model"
   ]
  },
  {
   "cell_type": "code",
   "execution_count": 14,
   "id": "c4c20f6d",
   "metadata": {
    "execution": {
     "iopub.execute_input": "2021-12-08T14:27:09.569072Z",
     "iopub.status.busy": "2021-12-08T14:27:09.565930Z",
     "iopub.status.idle": "2021-12-08T14:27:09.571892Z",
     "shell.execute_reply": "2021-12-08T14:27:09.571305Z",
     "shell.execute_reply.started": "2021-12-08T14:22:01.837642Z"
    },
    "papermill": {
     "duration": 0.042462,
     "end_time": "2021-12-08T14:27:09.572053",
     "exception": false,
     "start_time": "2021-12-08T14:27:09.529591",
     "status": "completed"
    },
    "tags": []
   },
   "outputs": [],
   "source": [
    "np.random.seed(42)\n",
    "\n",
    "# data params\n",
    "window_len = 7\n",
    "test_size = 0.1\n",
    "zero_base = True\n",
    "\n",
    "# model params\n",
    "lstm_neurons = 20\n",
    "epochs = 50\n",
    "batch_size = 4\n",
    "loss = 'mae'\n",
    "dropout = 0.25\n",
    "optimizer = 'adam'"
   ]
  },
  {
   "cell_type": "code",
   "execution_count": 15,
   "id": "ae47034c",
   "metadata": {
    "execution": {
     "iopub.execute_input": "2021-12-08T14:27:09.646959Z",
     "iopub.status.busy": "2021-12-08T14:27:09.645825Z",
     "iopub.status.idle": "2021-12-08T14:27:10.759523Z",
     "shell.execute_reply": "2021-12-08T14:27:10.760070Z",
     "shell.execute_reply.started": "2021-12-08T14:22:01.852414Z"
    },
    "papermill": {
     "duration": 1.154884,
     "end_time": "2021-12-08T14:27:10.760243",
     "exception": false,
     "start_time": "2021-12-08T14:27:09.605359",
     "status": "completed"
    },
    "tags": []
   },
   "outputs": [],
   "source": [
    "train, test, X_train, X_test, y_train, y_test = prepare_data(hist, target_col, window_len=window_len, zero_base=zero_base, test_size=test_size)"
   ]
  },
  {
   "cell_type": "markdown",
   "id": "be548b78",
   "metadata": {
    "papermill": {
     "duration": 0.033079,
     "end_time": "2021-12-08T14:27:10.826251",
     "exception": false,
     "start_time": "2021-12-08T14:27:10.793172",
     "status": "completed"
    },
    "tags": []
   },
   "source": [
    "We used a simple neural network with a single LSTM layer consisting of 20 neurons, <br>\n",
    "a dropout factor of 0.25, and a Dense layer with a single linear activation function.\n",
    "<br> In addition, I used Mean Absolute Error (MAE) as loss function.\n",
    "\n"
   ]
  },
  {
   "cell_type": "code",
   "execution_count": 16,
   "id": "9f86fb75",
   "metadata": {
    "execution": {
     "iopub.execute_input": "2021-12-08T14:27:10.897571Z",
     "iopub.status.busy": "2021-12-08T14:27:10.896484Z",
     "iopub.status.idle": "2021-12-08T14:29:34.919354Z",
     "shell.execute_reply": "2021-12-08T14:29:34.920003Z",
     "shell.execute_reply.started": "2021-12-08T14:22:03.026698Z"
    },
    "papermill": {
     "duration": 144.060611,
     "end_time": "2021-12-08T14:29:34.920203",
     "exception": false,
     "start_time": "2021-12-08T14:27:10.859592",
     "status": "completed"
    },
    "tags": []
   },
   "outputs": [
    {
     "name": "stderr",
     "output_type": "stream",
     "text": [
      "\n",
      "User settings:\n",
      "\n",
      "   KMP_AFFINITY=granularity=fine,verbose,compact,1,0\n",
      "   KMP_BLOCKTIME=0\n",
      "   KMP_DUPLICATE_LIB_OK=True\n",
      "   KMP_INIT_AT_FORK=FALSE\n",
      "   KMP_SETTINGS=1\n",
      "   KMP_WARNINGS=0\n",
      "\n",
      "Effective settings:\n",
      "\n",
      "   KMP_ABORT_DELAY=0\n",
      "   KMP_ADAPTIVE_LOCK_PROPS='1,1024'\n",
      "   KMP_ALIGN_ALLOC=64\n",
      "   KMP_ALL_THREADPRIVATE=128\n",
      "   KMP_ATOMIC_MODE=2\n",
      "   KMP_BLOCKTIME=0\n",
      "   KMP_CPUINFO_FILE: value is not defined\n",
      "   KMP_DETERMINISTIC_REDUCTION=false\n",
      "   KMP_DEVICE_THREAD_LIMIT=2147483647\n",
      "   KMP_DISP_NUM_BUFFERS=7\n",
      "   KMP_DUPLICATE_LIB_OK=true\n",
      "   KMP_ENABLE_TASK_THROTTLING=true\n",
      "   KMP_FORCE_REDUCTION: value is not defined\n",
      "   KMP_FOREIGN_THREADS_THREADPRIVATE=true\n",
      "   KMP_FORKJOIN_BARRIER='2,2'\n",
      "   KMP_FORKJOIN_BARRIER_PATTERN='hyper,hyper'\n",
      "   KMP_GTID_MODE=3\n",
      "   KMP_HANDLE_SIGNALS=false\n",
      "   KMP_HOT_TEAMS_MAX_LEVEL=1\n",
      "   KMP_HOT_TEAMS_MODE=0\n",
      "   KMP_INIT_AT_FORK=true\n",
      "   KMP_LIBRARY=throughput\n",
      "   KMP_LOCK_KIND=queuing\n",
      "   KMP_MALLOC_POOL_INCR=1M\n",
      "   KMP_NUM_LOCKS_IN_BLOCK=1\n",
      "   KMP_PLAIN_BARRIER='2,2'\n",
      "   KMP_PLAIN_BARRIER_PATTERN='hyper,hyper'\n",
      "   KMP_REDUCTION_BARRIER='1,1'\n",
      "   KMP_REDUCTION_BARRIER_PATTERN='hyper,hyper'\n",
      "   KMP_SCHEDULE='static,balanced;guided,iterative'\n",
      "   KMP_SETTINGS=true\n",
      "   KMP_SPIN_BACKOFF_PARAMS='4096,100'\n",
      "   KMP_STACKOFFSET=64\n",
      "   KMP_STACKPAD=0\n",
      "   KMP_STACKSIZE=8M\n",
      "   KMP_STORAGE_MAP=false\n",
      "   KMP_TASKING=2\n",
      "   KMP_TASKLOOP_MIN_TASKS=0\n",
      "   KMP_TASK_STEALING_CONSTRAINT=1\n",
      "   KMP_TEAMS_THREAD_LIMIT=4\n",
      "   KMP_TOPOLOGY_METHOD=all\n",
      "   KMP_USE_YIELD=1\n",
      "   KMP_VERSION=false\n",
      "   KMP_WARNINGS=false\n",
      "   OMP_AFFINITY_FORMAT='OMP: pid %P tid %i thread %n bound to OS proc set {%A}'\n",
      "   OMP_ALLOCATOR=omp_default_mem_alloc\n",
      "   OMP_CANCELLATION=false\n",
      "   OMP_DEFAULT_DEVICE=0\n",
      "   OMP_DISPLAY_AFFINITY=false\n",
      "   OMP_DISPLAY_ENV=false\n",
      "   OMP_DYNAMIC=false\n",
      "   OMP_MAX_ACTIVE_LEVELS=1\n",
      "   OMP_MAX_TASK_PRIORITY=0\n",
      "   OMP_NESTED: deprecated; max-active-levels-var=1\n",
      "   OMP_NUM_THREADS: value is not defined\n",
      "   OMP_PLACES: value is not defined\n",
      "   OMP_PROC_BIND='intel'\n",
      "   OMP_SCHEDULE='static'\n",
      "   OMP_STACKSIZE=8M\n",
      "   OMP_TARGET_OFFLOAD=DEFAULT\n",
      "   OMP_THREAD_LIMIT=2147483647\n",
      "   OMP_WAIT_POLICY=PASSIVE\n",
      "   KMP_AFFINITY='verbose,warnings,respect,granularity=fine,compact,1,0'\n",
      "\n",
      "2021-12-08 14:27:10.935300: I tensorflow/core/common_runtime/process_util.cc:146] Creating new thread pool with default inter op setting: 2. Tune using inter_op_parallelism_threads for best performance.\n",
      "2021-12-08 14:27:11.365291: I tensorflow/compiler/mlir/mlir_graph_optimization_pass.cc:185] None of the MLIR Optimization Passes are enabled (registered 2)\n"
     ]
    },
    {
     "name": "stdout",
     "output_type": "stream",
     "text": [
      "Epoch 1/50\n",
      "449/449 [==============================] - 4s 4ms/step - loss: 0.0625\n",
      "Epoch 2/50\n",
      "449/449 [==============================] - 2s 4ms/step - loss: 0.0435\n",
      "Epoch 3/50\n",
      "449/449 [==============================] - 2s 4ms/step - loss: 0.0386\n",
      "Epoch 4/50\n",
      "449/449 [==============================] - 2s 4ms/step - loss: 0.0349\n",
      "Epoch 5/50\n",
      "449/449 [==============================] - 2s 4ms/step - loss: 0.0341\n",
      "Epoch 6/50\n",
      "449/449 [==============================] - 2s 4ms/step - loss: 0.0328\n",
      "Epoch 7/50\n",
      "449/449 [==============================] - 2s 4ms/step - loss: 0.0330\n",
      "Epoch 8/50\n",
      "449/449 [==============================] - 2s 4ms/step - loss: 0.0323\n",
      "Epoch 9/50\n",
      "449/449 [==============================] - 2s 4ms/step - loss: 0.0320\n",
      "Epoch 10/50\n",
      "449/449 [==============================] - 2s 4ms/step - loss: 0.0316\n",
      "Epoch 11/50\n",
      "449/449 [==============================] - 2s 4ms/step - loss: 0.0311\n",
      "Epoch 12/50\n",
      "449/449 [==============================] - 2s 4ms/step - loss: 0.0316\n",
      "Epoch 13/50\n",
      "449/449 [==============================] - 2s 4ms/step - loss: 0.0314\n",
      "Epoch 14/50\n",
      "449/449 [==============================] - 2s 4ms/step - loss: 0.0314\n",
      "Epoch 15/50\n",
      "449/449 [==============================] - 2s 4ms/step - loss: 0.0309\n",
      "Epoch 16/50\n",
      "449/449 [==============================] - 2s 4ms/step - loss: 0.0312\n",
      "Epoch 17/50\n",
      "449/449 [==============================] - 2s 4ms/step - loss: 0.0309\n",
      "Epoch 18/50\n",
      "449/449 [==============================] - 2s 4ms/step - loss: 0.0308\n",
      "Epoch 19/50\n",
      "449/449 [==============================] - 2s 4ms/step - loss: 0.0314\n",
      "Epoch 20/50\n",
      "449/449 [==============================] - 2s 4ms/step - loss: 0.0307\n",
      "Epoch 21/50\n",
      "449/449 [==============================] - 2s 4ms/step - loss: 0.0313\n",
      "Epoch 22/50\n",
      "449/449 [==============================] - 2s 4ms/step - loss: 0.0305\n",
      "Epoch 23/50\n",
      "449/449 [==============================] - 2s 4ms/step - loss: 0.0306\n",
      "Epoch 24/50\n",
      "449/449 [==============================] - 2s 4ms/step - loss: 0.0306\n",
      "Epoch 25/50\n",
      "449/449 [==============================] - 2s 4ms/step - loss: 0.0311\n",
      "Epoch 26/50\n",
      "449/449 [==============================] - 2s 4ms/step - loss: 0.0306\n",
      "Epoch 27/50\n",
      "449/449 [==============================] - 2s 4ms/step - loss: 0.0305\n",
      "Epoch 28/50\n",
      "449/449 [==============================] - 2s 4ms/step - loss: 0.0305\n",
      "Epoch 29/50\n",
      "449/449 [==============================] - 2s 4ms/step - loss: 0.0304\n",
      "Epoch 30/50\n",
      "449/449 [==============================] - 2s 4ms/step - loss: 0.0306\n",
      "Epoch 31/50\n",
      "449/449 [==============================] - 2s 5ms/step - loss: 0.0310\n",
      "Epoch 32/50\n",
      "449/449 [==============================] - 2s 4ms/step - loss: 0.0305\n",
      "Epoch 33/50\n",
      "449/449 [==============================] - 2s 4ms/step - loss: 0.0301\n",
      "Epoch 34/50\n",
      "449/449 [==============================] - 2s 4ms/step - loss: 0.0307\n",
      "Epoch 35/50\n",
      "449/449 [==============================] - 2s 4ms/step - loss: 0.0313\n",
      "Epoch 36/50\n",
      "449/449 [==============================] - 2s 4ms/step - loss: 0.0297\n",
      "Epoch 37/50\n",
      "449/449 [==============================] - 2s 4ms/step - loss: 0.0302\n",
      "Epoch 38/50\n",
      "449/449 [==============================] - 2s 4ms/step - loss: 0.0312\n",
      "Epoch 39/50\n",
      "449/449 [==============================] - 2s 4ms/step - loss: 0.0307\n",
      "Epoch 40/50\n",
      "449/449 [==============================] - 2s 4ms/step - loss: 0.0300\n",
      "Epoch 41/50\n",
      "449/449 [==============================] - 2s 4ms/step - loss: 0.0304\n",
      "Epoch 42/50\n",
      "449/449 [==============================] - 2s 4ms/step - loss: 0.0301\n",
      "Epoch 43/50\n",
      "449/449 [==============================] - 2s 4ms/step - loss: 0.0307\n",
      "Epoch 44/50\n",
      "449/449 [==============================] - 2s 4ms/step - loss: 0.0307\n",
      "Epoch 45/50\n",
      "449/449 [==============================] - 2s 4ms/step - loss: 0.0304\n",
      "Epoch 46/50\n",
      "449/449 [==============================] - 2s 4ms/step - loss: 0.0308\n",
      "Epoch 47/50\n",
      "449/449 [==============================] - 2s 4ms/step - loss: 0.0301\n",
      "Epoch 48/50\n",
      "449/449 [==============================] - 2s 4ms/step - loss: 0.0306\n",
      "Epoch 49/50\n",
      "449/449 [==============================] - 2s 4ms/step - loss: 0.0298\n",
      "Epoch 50/50\n",
      "449/449 [==============================] - 2s 4ms/step - loss: 0.0302\n"
     ]
    }
   ],
   "source": [
    "model = build_lstm_model(\n",
    "    X_train, output_size=1, neurons=lstm_neurons, dropout=dropout, loss=loss,\n",
    "    optimizer=optimizer)\n",
    "history = model.fit(\n",
    "    X_train, y_train, epochs=epochs, batch_size=batch_size, verbose=1, shuffle=True)"
   ]
  },
  {
   "cell_type": "markdown",
   "id": "4ae71c30",
   "metadata": {
    "papermill": {
     "duration": 0.565641,
     "end_time": "2021-12-08T14:29:36.081310",
     "exception": false,
     "start_time": "2021-12-08T14:29:35.515669",
     "status": "completed"
    },
    "tags": []
   },
   "source": [
    "# Plot Prediction"
   ]
  },
  {
   "cell_type": "markdown",
   "id": "b430a1eb",
   "metadata": {
    "papermill": {
     "duration": 0.566925,
     "end_time": "2021-12-08T14:29:37.210782",
     "exception": false,
     "start_time": "2021-12-08T14:29:36.643857",
     "status": "completed"
    },
    "tags": []
   },
   "source": [
    "Using the trained model to predict on the left-out test set."
   ]
  },
  {
   "cell_type": "code",
   "execution_count": 17,
   "id": "5b96d342",
   "metadata": {
    "execution": {
     "iopub.execute_input": "2021-12-08T14:29:38.340736Z",
     "iopub.status.busy": "2021-12-08T14:29:38.340067Z",
     "iopub.status.idle": "2021-12-08T14:29:38.846493Z",
     "shell.execute_reply": "2021-12-08T14:29:38.845895Z",
     "shell.execute_reply.started": "2021-12-08T14:23:44.684797Z"
    },
    "papermill": {
     "duration": 1.074164,
     "end_time": "2021-12-08T14:29:38.846646",
     "exception": false,
     "start_time": "2021-12-08T14:29:37.772482",
     "status": "completed"
    },
    "tags": []
   },
   "outputs": [],
   "source": [
    "targets = test[target_col][window_len:]\n",
    "preds = model.predict(X_test).squeeze()"
   ]
  },
  {
   "cell_type": "code",
   "execution_count": 18,
   "id": "0dfa2173",
   "metadata": {
    "execution": {
     "iopub.execute_input": "2021-12-08T14:29:40.003068Z",
     "iopub.status.busy": "2021-12-08T14:29:40.002373Z",
     "iopub.status.idle": "2021-12-08T14:29:40.005248Z",
     "shell.execute_reply": "2021-12-08T14:29:40.006063Z",
     "shell.execute_reply.started": "2021-12-08T14:23:45.237834Z"
    },
    "papermill": {
     "duration": 0.578505,
     "end_time": "2021-12-08T14:29:40.006253",
     "exception": false,
     "start_time": "2021-12-08T14:29:39.427748",
     "status": "completed"
    },
    "tags": []
   },
   "outputs": [
    {
     "data": {
      "text/plain": [
       "0.029357847272440476"
      ]
     },
     "execution_count": 18,
     "metadata": {},
     "output_type": "execute_result"
    }
   ],
   "source": [
    "mean_absolute_error(preds, y_test)"
   ]
  },
  {
   "cell_type": "code",
   "execution_count": 19,
   "id": "32207f8a",
   "metadata": {
    "execution": {
     "iopub.execute_input": "2021-12-08T14:29:41.172686Z",
     "iopub.status.busy": "2021-12-08T14:29:41.171677Z",
     "iopub.status.idle": "2021-12-08T14:29:41.518191Z",
     "shell.execute_reply": "2021-12-08T14:29:41.518713Z",
     "shell.execute_reply.started": "2021-12-08T14:23:45.248592Z"
    },
    "papermill": {
     "duration": 0.938407,
     "end_time": "2021-12-08T14:29:41.518886",
     "exception": false,
     "start_time": "2021-12-08T14:29:40.580479",
     "status": "completed"
    },
    "tags": []
   },
   "outputs": [
    {
     "data": {
      "image/png": "[encoded data removed]",
      "text/plain": [
       "<Figure size 1152x648 with 1 Axes>"
      ]
     },
     "metadata": {
      "needs_background": "light"
     },
     "output_type": "display_data"
    }
   ],
   "source": [
    "preds = test[target_col].values[:-window_len] * (preds + 1)\n",
    "preds = pd.Series(index=targets.index, data=preds)\n",
    "\n",
    "line_plot(targets, preds, 'actual', 'prediction', lw=3)"
   ]
  },
  {
   "cell_type": "markdown",
   "id": "9fbd9038",
   "metadata": {
    "papermill": {
     "duration": 0.566206,
     "end_time": "2021-12-08T14:29:42.658221",
     "exception": false,
     "start_time": "2021-12-08T14:29:42.092015",
     "status": "completed"
    },
    "tags": []
   },
   "source": [
    "***Let’s take a closer look and zoom into the last 30 days of the plot***"
   ]
  },
  {
   "cell_type": "code",
   "execution_count": 20,
   "id": "19b00e7c",
   "metadata": {
    "execution": {
     "iopub.execute_input": "2021-12-08T14:29:43.819523Z",
     "iopub.status.busy": "2021-12-08T14:29:43.818760Z",
     "iopub.status.idle": "2021-12-08T14:29:44.176969Z",
     "shell.execute_reply": "2021-12-08T14:29:44.176260Z",
     "shell.execute_reply.started": "2021-12-08T14:23:45.612554Z"
    },
    "papermill": {
     "duration": 0.945143,
     "end_time": "2021-12-08T14:29:44.177131",
     "exception": false,
     "start_time": "2021-12-08T14:29:43.231988",
     "status": "completed"
    },
    "tags": []
   },
   "outputs": [
    {
     "data": {
      "image/png": "[encoded data removed]",
      "text/plain": [
       "<Figure size 1152x648 with 1 Axes>"
      ]
     },
     "metadata": {
      "needs_background": "light"
     },
     "output_type": "display_data"
    }
   ],
   "source": [
    "n_points = 30\n",
    "\n",
    "line_plot(targets[-n_points:], preds[-n_points:], 'actual', 'prediction', lw=3)"
   ]
  },
  {
   "cell_type": "markdown",
   "id": "530ad90d",
   "metadata": {
    "papermill": {
     "duration": 0.572063,
     "end_time": "2021-12-08T14:29:45.349970",
     "exception": false,
     "start_time": "2021-12-08T14:29:44.777907",
     "status": "completed"
    },
    "tags": []
   },
   "source": [
    "<b> The fundamental flaw with this model is that for the prediction of a particular day, it is mostly using the value of the previous day.\n",
    "<br>\n",
    "The prediction line doesn’t seem to be much more than a shifted version of the actual price.\n",
    "<br>\n",
    "In fact, if we adjust the predictions and shift them by a day, this observation becomes even more obvious. </b>"
   ]
  },
  {
   "cell_type": "code",
   "execution_count": 21,
   "id": "388677ca",
   "metadata": {
    "execution": {
     "iopub.execute_input": "2021-12-08T14:29:46.559692Z",
     "iopub.status.busy": "2021-12-08T14:29:46.558979Z",
     "iopub.status.idle": "2021-12-08T14:29:46.876296Z",
     "shell.execute_reply": "2021-12-08T14:29:46.876873Z",
     "shell.execute_reply.started": "2021-12-08T14:23:45.996990Z"
    },
    "papermill": {
     "duration": 0.957406,
     "end_time": "2021-12-08T14:29:46.877059",
     "exception": false,
     "start_time": "2021-12-08T14:29:45.919653",
     "status": "completed"
    },
    "tags": []
   },
   "outputs": [
    {
     "data": {
      "image/png": "[encoded data removed]",
      "text/plain": [
       "<Figure size 1152x648 with 1 Axes>"
      ]
     },
     "metadata": {
      "needs_background": "light"
     },
     "output_type": "display_data"
    }
   ],
   "source": [
    "line_plot(targets[-n_points:][:-1], preds[-n_points:].shift(-1), 'actual', 'prediction', lw=3)"
   ]
  },
  {
   "cell_type": "markdown",
   "id": "669e0c74",
   "metadata": {
    "papermill": {
     "duration": 0.569871,
     "end_time": "2021-12-08T14:29:48.078336",
     "exception": false,
     "start_time": "2021-12-08T14:29:47.508465",
     "status": "completed"
    },
    "tags": []
   },
   "source": [
    "we observe an almost perfect match between actual data and predictions, indicating that the model is essentially learning the price at the previous day."
   ]
  },
  {
   "cell_type": "markdown",
   "id": "d0bee57f",
   "metadata": {
    "papermill": {
     "duration": 0.574916,
     "end_time": "2021-12-08T14:29:49.221758",
     "exception": false,
     "start_time": "2021-12-08T14:29:48.646842",
     "status": "completed"
    },
    "tags": []
   },
   "source": [
    "# Compare Returns"
   ]
  },
  {
   "cell_type": "code",
   "execution_count": 22,
   "id": "e6eb154a",
   "metadata": {
    "execution": {
     "iopub.execute_input": "2021-12-08T14:29:50.384962Z",
     "iopub.status.busy": "2021-12-08T14:29:50.384273Z",
     "iopub.status.idle": "2021-12-08T14:29:50.387137Z",
     "shell.execute_reply": "2021-12-08T14:29:50.386587Z",
     "shell.execute_reply.started": "2021-12-08T14:23:46.358966Z"
    },
    "papermill": {
     "duration": 0.585122,
     "end_time": "2021-12-08T14:29:50.387277",
     "exception": false,
     "start_time": "2021-12-08T14:29:49.802155",
     "status": "completed"
    },
    "tags": []
   },
   "outputs": [],
   "source": [
    "actual_returns = targets.pct_change()[1:]\n",
    "predicted_returns = preds.pct_change()[1:]"
   ]
  },
  {
   "cell_type": "markdown",
   "id": "3b251f63",
   "metadata": {
    "execution": {
     "iopub.execute_input": "2021-12-08T14:23:46.373536Z",
     "iopub.status.busy": "2021-12-08T14:23:46.373238Z",
     "iopub.status.idle": "2021-12-08T14:23:46.383728Z",
     "shell.execute_reply": "2021-12-08T14:23:46.383062Z",
     "shell.execute_reply.started": "2021-12-08T14:23:46.373505Z"
    },
    "papermill": {
     "duration": 0.577382,
     "end_time": "2021-12-08T14:29:51.536547",
     "exception": false,
     "start_time": "2021-12-08T14:29:50.959165",
     "status": "completed"
    },
    "tags": []
   },
   "source": [
    "def dual_line_plot(line1, line2, line3, line4, label1=None, label2=None, title='', lw=2):\n",
    "    import matplotlib.dates as mdates\n",
    "    fig, (ax1, ax2) = plt.subplots(1, 2, figsize=(21, 9))\n",
    "    ax1.plot(line1, label=label1, linewidth=lw)\n",
    "    ax1.plot(line2, label=label2, linewidth=lw)\n",
    "    ax2.plot(line3, label=label1, linewidth=lw)\n",
    "    ax2.plot(line4, label=label2, linewidth=lw)\n",
    "    ax2.set_xticks(ax1.get_xticks())\n",
    "    ax2.xaxis.set_major_formatter(mdates.DateFormatter('%Y-%m-%d'))\n",
    "    ax1.set_ylabel('daily returns', fontsize=14)\n",
    "    ax2.legend(loc='best', fontsize=18);"
   ]
  },
  {
   "cell_type": "code",
   "execution_count": 23,
   "id": "ee947407",
   "metadata": {
    "execution": {
     "iopub.execute_input": "2021-12-08T14:29:52.683447Z",
     "iopub.status.busy": "2021-12-08T14:29:52.682768Z",
     "iopub.status.idle": "2021-12-08T14:29:52.995662Z",
     "shell.execute_reply": "2021-12-08T14:29:52.995012Z",
     "shell.execute_reply.started": "2021-12-08T14:23:46.385256Z"
    },
    "papermill": {
     "duration": 0.886971,
     "end_time": "2021-12-08T14:29:52.995934",
     "exception": true,
     "start_time": "2021-12-08T14:29:52.108963",
     "status": "failed"
    },
    "tags": []
   },
   "outputs": [
    {
     "ename": "NameError",
     "evalue": "name 'dual_line_plot' is not defined",
     "output_type": "error",
     "traceback": [
      "\u001b[0;31m---------------------------------------------------------------------------\u001b[0m",
      "\u001b[0;31mNameError\u001b[0m                                 Traceback (most recent call last)",
      "\u001b[0;32m/tmp/ipykernel_19/1490663805.py\u001b[0m in \u001b[0;36m<module>\u001b[0;34m\u001b[0m\n\u001b[0;32m----> 1\u001b[0;31m dual_line_plot(actual_returns[-n_points:],\n\u001b[0m\u001b[1;32m      2\u001b[0m           \u001b[0mpredicted_returns\u001b[0m\u001b[0;34m[\u001b[0m\u001b[0;34m-\u001b[0m\u001b[0mn_points\u001b[0m\u001b[0;34m:\u001b[0m\u001b[0;34m]\u001b[0m\u001b[0;34m,\u001b[0m\u001b[0;34m\u001b[0m\u001b[0;34m\u001b[0m\u001b[0m\n\u001b[1;32m      3\u001b[0m           \u001b[0mactual_returns\u001b[0m\u001b[0;34m[\u001b[0m\u001b[0;34m-\u001b[0m\u001b[0mn_points\u001b[0m\u001b[0;34m:\u001b[0m\u001b[0;34m]\u001b[0m\u001b[0;34m[\u001b[0m\u001b[0;34m:\u001b[0m\u001b[0;34m-\u001b[0m\u001b[0;36m1\u001b[0m\u001b[0;34m]\u001b[0m\u001b[0;34m,\u001b[0m\u001b[0;34m\u001b[0m\u001b[0;34m\u001b[0m\u001b[0m\n\u001b[1;32m      4\u001b[0m           \u001b[0mpredicted_returns\u001b[0m\u001b[0;34m[\u001b[0m\u001b[0;34m-\u001b[0m\u001b[0mn_points\u001b[0m\u001b[0;34m:\u001b[0m\u001b[0;34m]\u001b[0m\u001b[0;34m.\u001b[0m\u001b[0mshift\u001b[0m\u001b[0;34m(\u001b[0m\u001b[0;34m-\u001b[0m\u001b[0;36m1\u001b[0m\u001b[0;34m)\u001b[0m\u001b[0;34m,\u001b[0m\u001b[0;34m\u001b[0m\u001b[0;34m\u001b[0m\u001b[0m\n\u001b[1;32m      5\u001b[0m           'actual returns', 'predicted returns', lw=3)\n",
      "\u001b[0;31mNameError\u001b[0m: name 'dual_line_plot' is not defined"
     ]
    }
   ],
   "source": [
    "dual_line_plot(actual_returns[-n_points:],\n",
    "          predicted_returns[-n_points:],\n",
    "          actual_returns[-n_points:][:-1],\n",
    "          predicted_returns[-n_points:].shift(-1),\n",
    "          'actual returns', 'predicted returns', lw=3)"
   ]
  },
  {
   "cell_type": "markdown",
   "id": "549eba9b",
   "metadata": {
    "papermill": {
     "duration": null,
     "end_time": null,
     "exception": null,
     "start_time": null,
     "status": "pending"
    },
    "tags": []
   },
   "source": [
    "Looking at the actual and predicted returns, both in their original form as well as with the 1-day-shift applied to them, we obtain the same observation."
   ]
  },
  {
   "cell_type": "markdown",
   "id": "2ac773be",
   "metadata": {
    "papermill": {
     "duration": null,
     "end_time": null,
     "exception": null,
     "start_time": null,
     "status": "pending"
    },
    "tags": []
   },
   "source": []
  },
  {
   "cell_type": "code",
   "execution_count": null,
   "id": "0bca1d2a",
   "metadata": {
    "execution": {
     "iopub.execute_input": "2021-12-08T14:23:46.941861Z",
     "iopub.status.busy": "2021-12-08T14:23:46.941122Z",
     "iopub.status.idle": "2021-12-08T14:23:47.299167Z",
     "shell.execute_reply": "2021-12-08T14:23:47.298339Z",
     "shell.execute_reply.started": "2021-12-08T14:23:46.941811Z"
    },
    "papermill": {
     "duration": null,
     "end_time": null,
     "exception": null,
     "start_time": null,
     "status": "pending"
    },
    "tags": []
   },
   "outputs": [],
   "source": [
    "line_plot(actual_returns[-n_points:][:-1], predicted_returns[-n_points:].shift(-1),\n",
    "           'actual returns', 'predicted returns', lw=3)"
   ]
  },
  {
   "cell_type": "code",
   "execution_count": null,
   "id": "1446af76",
   "metadata": {
    "execution": {
     "iopub.execute_input": "2021-12-08T14:23:47.300701Z",
     "iopub.status.busy": "2021-12-08T14:23:47.300455Z",
     "iopub.status.idle": "2021-12-08T14:23:47.695730Z",
     "shell.execute_reply": "2021-12-08T14:23:47.695073Z",
     "shell.execute_reply.started": "2021-12-08T14:23:47.300671Z"
    },
    "papermill": {
     "duration": null,
     "end_time": null,
     "exception": null,
     "start_time": null,
     "status": "pending"
    },
    "tags": []
   },
   "outputs": [],
   "source": [
    "fig, (ax1, ax2) = plt.subplots(1, 2, figsize=(18, 9))\n",
    "\n",
    "# actual correlation\n",
    "corr = np.corrcoef(actual_returns, predicted_returns)[0][1]\n",
    "ax1.scatter(actual_returns, predicted_returns, color='k', marker='o', alpha=0.5, s=100)\n",
    "ax1.set_title('r = {:.2f}'.format(corr), fontsize=18)\n",
    "\n",
    "# shifted correlation\n",
    "shifted_actual = actual_returns[:-1]\n",
    "shifted_predicted = predicted_returns.shift(-1).dropna()\n",
    "corr = np.corrcoef(shifted_actual, shifted_predicted)[0][1]\n",
    "ax2.scatter(shifted_actual, shifted_predicted, color='k', marker='o', alpha=0.5, s=100)\n",
    "ax2.set_title('r = {:.2f}'.format(corr), fontsize=18);"
   ]
  },
  {
   "cell_type": "markdown",
   "id": "1362896d",
   "metadata": {
    "papermill": {
     "duration": null,
     "end_time": null,
     "exception": null,
     "start_time": null,
     "status": "pending"
    },
    "tags": []
   },
   "source": [
    "As we can see from the plots above, actual and predicted returns are uncorrelated. <br>\n",
    "Only after applying the 1-day-shift on the predictions we obtain highly correlated returns that resemble the returns of the actual bitcoin data."
   ]
  }
 ],
 "metadata": {
  "kernelspec": {
   "display_name": "Python 3",
   "language": "python",
   "name": "python3"
  },
  "language_info": {
   "codemirror_mode": {
    "name": "ipython",
    "version": 3
   },
   "file_extension": ".py",
   "mimetype": "text/x-python",
   "name": "python",
   "nbconvert_exporter": "python",
   "pygments_lexer": "ipython3",
   "version": "3.7.10"
  },
  "papermill": {
   "default_parameters": {},
   "duration": 185.985562,
   "end_time": "2021-12-08T14:29:57.158620",
   "environment_variables": {},
   "exception": true,
   "input_path": "__notebook__.ipynb",
   "output_path": "__notebook__.ipynb",
   "parameters": {},
   "start_time": "2021-12-08T14:26:51.173058",
   "version": "2.3.3"
  }
 },
 "nbformat": 4,
 "nbformat_minor": 5
}
